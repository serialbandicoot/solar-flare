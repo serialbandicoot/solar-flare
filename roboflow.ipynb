{
 "cells": [
  {
   "cell_type": "markdown",
   "id": "90450e99-7ece-4d6c-ad90-3405f40a1386",
   "metadata": {
    "execution": {
     "iopub.execute_input": "2024-02-23T17:42:58.485210Z",
     "iopub.status.busy": "2024-02-23T17:42:58.484834Z",
     "iopub.status.idle": "2024-02-23T17:42:58.489130Z",
     "shell.execute_reply": "2024-02-23T17:42:58.488272Z",
     "shell.execute_reply.started": "2024-02-23T17:42:58.485180Z"
    },
    "tags": []
   },
   "source": [
    "## RoboFlow DataSet\n",
    "\n",
    "Getting the roboflow ..."
   ]
  },
  {
   "cell_type": "code",
   "execution_count": 2,
   "id": "ae372ef3-ef03-4b1e-9683-b0d74e028e1d",
   "metadata": {
    "execution": {
     "iopub.execute_input": "2024-02-23T17:53:45.067430Z",
     "iopub.status.busy": "2024-02-23T17:53:45.067042Z",
     "iopub.status.idle": "2024-02-23T17:53:45.375616Z",
     "shell.execute_reply": "2024-02-23T17:53:45.372163Z",
     "shell.execute_reply.started": "2024-02-23T17:53:45.067389Z"
    },
    "tags": []
   },
   "outputs": [
    {
     "name": "stdout",
     "output_type": "stream",
     "text": [
      "None\n",
      "None\n",
      "loading Roboflow workspace...\n",
      "loading Roboflow project...\n",
      "[WARNING] we noticed you are downloading a `yolov8` datasets but you don't have `ultralytics` installed. Roboflow `.deploy` supports only models trained with `ultralytics==8.0.196`, to intall it `pip install ultralytics==8.0.196`.\n"
     ]
    },
    {
     "name": "stderr",
     "output_type": "stream",
     "text": [
      "Downloading Dataset Version Zip in ./yolov8_v1 to yolov8:: 100%|██████████| 2329/2329 [00:01<00:00, 1565.13it/s]"
     ]
    },
    {
     "name": "stdout",
     "output_type": "stream",
     "text": [
      "\n"
     ]
    },
    {
     "name": "stderr",
     "output_type": "stream",
     "text": [
      "\n",
      "Extracting Dataset Version Zip to ./yolov8_v1 in yolov8:: 100%|██████████| 58/58 [00:00<00:00, 4394.24it/s]\n"
     ]
    },
    {
     "data": {
      "text/plain": [
       "<roboflow.core.dataset.Dataset at 0x1057e9150>"
      ]
     },
     "execution_count": 2,
     "metadata": {},
     "output_type": "execute_result"
    }
   ],
   "source": [
    "#%pip install roboflow\n",
    "import os\n",
    "import roboflow\n",
    "\n",
    "import os\n",
    "print(os.environ.get(\"ROBOFLOW\"))\n",
    "\n",
    "roboflow_api_key = os.environ.get('ROBOFLOW')\n",
    "print(roboflow_api_key)\n",
    "\n",
    "rf = roboflow.Roboflow(api_key=roboflow_api_key)\n",
    "workspace = rf.workspace(\"solarflarelabelling\")\n",
    "project = workspace.project(\"solar-flare-labelling\")\n",
    "version = project.version(\"1\")\n",
    "version.download(model_format=\"yolov8\", location=\"./yolov8_v1\")"
   ]
  }
 ],
 "metadata": {
  "kernelspec": {
   "display_name": "saturn (Python 3)",
   "language": "python",
   "name": "python3"
  },
  "language_info": {
   "codemirror_mode": {
    "name": "ipython",
    "version": 3
   },
   "file_extension": ".py",
   "mimetype": "text/x-python",
   "name": "python",
   "nbconvert_exporter": "python",
   "pygments_lexer": "ipython3",
   "version": "3.10.13"
  }
 },
 "nbformat": 4,
 "nbformat_minor": 5
}
