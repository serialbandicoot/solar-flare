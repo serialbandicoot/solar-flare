{
 "cells": [
  {
   "cell_type": "markdown",
   "id": "90450e99-7ece-4d6c-ad90-3405f40a1386",
   "metadata": {
    "execution": {
     "iopub.execute_input": "2024-02-23T17:42:58.485210Z",
     "iopub.status.busy": "2024-02-23T17:42:58.484834Z",
     "iopub.status.idle": "2024-02-23T17:42:58.489130Z",
     "shell.execute_reply": "2024-02-23T17:42:58.488272Z",
     "shell.execute_reply.started": "2024-02-23T17:42:58.485180Z"
    },
    "tags": []
   },
   "source": [
    "## RoboFlow DataSet\n",
    "\n",
    "Getting the roboflow ..."
   ]
  },
  {
   "cell_type": "code",
   "execution_count": 2,
   "id": "08ad8ad4-1ce0-4e9e-a6e6-e65990ceb876",
   "metadata": {
    "execution": {
     "iopub.execute_input": "2024-02-23T17:48:12.858608Z",
     "iopub.status.busy": "2024-02-23T17:48:12.858240Z",
     "iopub.status.idle": "2024-02-23T17:48:39.843479Z",
     "shell.execute_reply": "2024-02-23T17:48:39.842671Z",
     "shell.execute_reply.started": "2024-02-23T17:48:12.858578Z"
    },
    "tags": []
   },
   "outputs": [
    {
     "name": "stdout",
     "output_type": "stream",
     "text": [
      "Collecting roboflow\n",
      "  Downloading roboflow-1.1.19-py3-none-any.whl.metadata (9.3 kB)\n",
      "Collecting certifi==2023.7.22 (from roboflow)\n",
      "  Downloading certifi-2023.7.22-py3-none-any.whl.metadata (2.2 kB)\n",
      "Collecting chardet==4.0.0 (from roboflow)\n",
      "  Downloading chardet-4.0.0-py2.py3-none-any.whl (178 kB)\n",
      "\u001b[2K     \u001b[90m━━━━━━━━━━━━━━━━━━━━━━━━━━━━━━━━━━━━━━━\u001b[0m \u001b[32m178.7/178.7 kB\u001b[0m \u001b[31m4.7 MB/s\u001b[0m eta \u001b[36m0:00:00\u001b[0ma \u001b[36m0:00:01\u001b[0m\n",
      "\u001b[?25hCollecting cycler==0.10.0 (from roboflow)\n",
      "  Downloading cycler-0.10.0-py2.py3-none-any.whl (6.5 kB)\n",
      "Collecting idna==2.10 (from roboflow)\n",
      "  Downloading idna-2.10-py2.py3-none-any.whl (58 kB)\n",
      "\u001b[2K     \u001b[90m━━━━━━━━━━━━━━━━━━━━━━━━━━━━━━━━━━━━━━━━\u001b[0m \u001b[32m58.8/58.8 kB\u001b[0m \u001b[31m10.1 MB/s\u001b[0m eta \u001b[36m0:00:00\u001b[0m\n",
      "\u001b[?25hRequirement already satisfied: kiwisolver>=1.3.1 in /opt/saturncloud/envs/saturn/lib/python3.9/site-packages (from roboflow) (1.4.5)\n",
      "Requirement already satisfied: matplotlib in /opt/saturncloud/envs/saturn/lib/python3.9/site-packages (from roboflow) (3.5.2)\n",
      "Requirement already satisfied: numpy>=1.18.5 in /opt/saturncloud/envs/saturn/lib/python3.9/site-packages (from roboflow) (1.21.6)\n",
      "Collecting opencv-python-headless==4.8.0.74 (from roboflow)\n",
      "  Downloading opencv_python_headless-4.8.0.74-cp37-abi3-manylinux_2_17_x86_64.manylinux2014_x86_64.whl.metadata (19 kB)\n",
      "Requirement already satisfied: Pillow>=7.1.2 in /opt/saturncloud/envs/saturn/lib/python3.9/site-packages (from roboflow) (9.4.0)\n",
      "Requirement already satisfied: python-dateutil in /opt/saturncloud/envs/saturn/lib/python3.9/site-packages (from roboflow) (2.8.2)\n",
      "Collecting python-dotenv (from roboflow)\n",
      "  Downloading python_dotenv-1.0.1-py3-none-any.whl.metadata (23 kB)\n",
      "Requirement already satisfied: requests in /opt/saturncloud/envs/saturn/lib/python3.9/site-packages (from roboflow) (2.31.0)\n",
      "Requirement already satisfied: six in /opt/saturncloud/envs/saturn/lib/python3.9/site-packages (from roboflow) (1.16.0)\n",
      "Collecting supervision (from roboflow)\n",
      "  Downloading supervision-0.18.0-py3-none-any.whl.metadata (12 kB)\n",
      "Requirement already satisfied: urllib3>=1.26.6 in /opt/saturncloud/envs/saturn/lib/python3.9/site-packages (from roboflow) (1.26.18)\n",
      "Collecting tqdm>=4.41.0 (from roboflow)\n",
      "  Using cached tqdm-4.66.2-py3-none-any.whl.metadata (57 kB)\n",
      "Requirement already satisfied: PyYAML>=5.3.1 in /opt/saturncloud/envs/saturn/lib/python3.9/site-packages (from roboflow) (6.0.1)\n",
      "Collecting requests-toolbelt (from roboflow)\n",
      "  Downloading requests_toolbelt-1.0.0-py2.py3-none-any.whl.metadata (14 kB)\n",
      "Collecting python-magic (from roboflow)\n",
      "  Downloading python_magic-0.4.27-py2.py3-none-any.whl.metadata (5.8 kB)\n",
      "Requirement already satisfied: fonttools>=4.22.0 in /opt/saturncloud/envs/saturn/lib/python3.9/site-packages (from matplotlib->roboflow) (4.47.2)\n",
      "Requirement already satisfied: packaging>=20.0 in /opt/saturncloud/envs/saturn/lib/python3.9/site-packages (from matplotlib->roboflow) (23.2)\n",
      "Requirement already satisfied: pyparsing>=2.2.1 in /opt/saturncloud/envs/saturn/lib/python3.9/site-packages (from matplotlib->roboflow) (3.1.1)\n",
      "Requirement already satisfied: charset-normalizer<4,>=2 in /opt/saturncloud/envs/saturn/lib/python3.9/site-packages (from requests->roboflow) (2.0.12)\n",
      "Requirement already satisfied: defusedxml<0.8.0,>=0.7.1 in /opt/saturncloud/envs/saturn/lib/python3.9/site-packages (from supervision->roboflow) (0.7.1)\n",
      "Collecting matplotlib (from roboflow)\n",
      "  Downloading matplotlib-3.8.3-cp39-cp39-manylinux_2_17_x86_64.manylinux2014_x86_64.whl.metadata (5.8 kB)\n",
      "Collecting scipy<2.0.0,>=1.10.0 (from supervision->roboflow)\n",
      "  Downloading scipy-1.12.0-cp39-cp39-manylinux_2_17_x86_64.manylinux2014_x86_64.whl.metadata (60 kB)\n",
      "\u001b[2K     \u001b[90m━━━━━━━━━━━━━━━━━━━━━━━━━━━━━━━━━━━━━━━━\u001b[0m \u001b[32m60.4/60.4 kB\u001b[0m \u001b[31m9.9 MB/s\u001b[0m eta \u001b[36m0:00:00\u001b[0m\n",
      "\u001b[?25hCollecting contourpy>=1.0.1 (from matplotlib->roboflow)\n",
      "  Downloading contourpy-1.2.0-cp39-cp39-manylinux_2_17_x86_64.manylinux2014_x86_64.whl.metadata (5.8 kB)\n",
      "Requirement already satisfied: importlib-resources>=3.2.0 in /opt/saturncloud/envs/saturn/lib/python3.9/site-packages (from matplotlib->roboflow) (6.1.1)\n",
      "Requirement already satisfied: zipp>=3.1.0 in /opt/saturncloud/envs/saturn/lib/python3.9/site-packages (from importlib-resources>=3.2.0->matplotlib->roboflow) (3.17.0)\n",
      "Collecting numpy>=1.18.5 (from roboflow)\n",
      "  Using cached numpy-1.26.4-cp39-cp39-manylinux_2_17_x86_64.manylinux2014_x86_64.whl.metadata (61 kB)\n",
      "Downloading roboflow-1.1.19-py3-none-any.whl (70 kB)\n",
      "\u001b[2K   \u001b[90m━━━━━━━━━━━━━━━━━━━━━━━━━━━━━━━━━━━━━━━━\u001b[0m \u001b[32m70.2/70.2 kB\u001b[0m \u001b[31m10.1 MB/s\u001b[0m eta \u001b[36m0:00:00\u001b[0m\n",
      "\u001b[?25hDownloading certifi-2023.7.22-py3-none-any.whl (158 kB)\n",
      "\u001b[2K   \u001b[90m━━━━━━━━━━━━━━━━━━━━━━━━━━━━━━━━━━━━━━━━\u001b[0m \u001b[32m158.3/158.3 kB\u001b[0m \u001b[31m20.8 MB/s\u001b[0m eta \u001b[36m0:00:00\u001b[0m\n",
      "\u001b[?25hDownloading opencv_python_headless-4.8.0.74-cp37-abi3-manylinux_2_17_x86_64.manylinux2014_x86_64.whl (49.1 MB)\n",
      "\u001b[2K   \u001b[90m━━━━━━━━━━━━━━━━━━━━━━━━━━━━━━━━━━━━━━━━\u001b[0m \u001b[32m49.1/49.1 MB\u001b[0m \u001b[31m4.8 MB/s\u001b[0m eta \u001b[36m0:00:00\u001b[0m00:01\u001b[0m00:01\u001b[0mm\n",
      "\u001b[?25hUsing cached tqdm-4.66.2-py3-none-any.whl (78 kB)\n",
      "Downloading python_dotenv-1.0.1-py3-none-any.whl (19 kB)\n",
      "Downloading python_magic-0.4.27-py2.py3-none-any.whl (13 kB)\n",
      "Downloading requests_toolbelt-1.0.0-py2.py3-none-any.whl (54 kB)\n",
      "\u001b[2K   \u001b[90m━━━━━━━━━━━━━━━━━━━━━━━━━━━━━━━━━━━━━━━━\u001b[0m \u001b[32m54.5/54.5 kB\u001b[0m \u001b[31m3.9 MB/s\u001b[0m eta \u001b[36m0:00:00\u001b[0m\n",
      "\u001b[?25hDownloading supervision-0.18.0-py3-none-any.whl (86 kB)\n",
      "\u001b[2K   \u001b[90m━━━━━━━━━━━━━━━━━━━━━━━━━━━━━━━━━━━━━━━━\u001b[0m \u001b[32m86.7/86.7 kB\u001b[0m \u001b[31m3.5 MB/s\u001b[0m eta \u001b[36m0:00:00\u001b[0m\n",
      "\u001b[?25hDownloading matplotlib-3.8.3-cp39-cp39-manylinux_2_17_x86_64.manylinux2014_x86_64.whl (11.6 MB)\n",
      "\u001b[2K   \u001b[90m━━━━━━━━━━━━━━━━━━━━━━━━━━━━━━━━━━━━━━━━\u001b[0m \u001b[32m11.6/11.6 MB\u001b[0m \u001b[31m7.1 MB/s\u001b[0m eta \u001b[36m0:00:00\u001b[0m00:01\u001b[0m00:01\u001b[0m\n",
      "\u001b[?25hDownloading contourpy-1.2.0-cp39-cp39-manylinux_2_17_x86_64.manylinux2014_x86_64.whl (310 kB)\n",
      "\u001b[2K   \u001b[90m━━━━━━━━━━━━━━━━━━━━━━━━━━━━━━━━━━━━━━━━\u001b[0m \u001b[32m311.0/311.0 kB\u001b[0m \u001b[31m7.0 MB/s\u001b[0m eta \u001b[36m0:00:00\u001b[0ma \u001b[36m0:00:01\u001b[0m\n",
      "\u001b[?25hDownloading scipy-1.12.0-cp39-cp39-manylinux_2_17_x86_64.manylinux2014_x86_64.whl (38.5 MB)\n",
      "\u001b[2K   \u001b[90m━━━━━━━━━━━━━━━━━━━━━━━━━━━━━━━━━━━━━━━━\u001b[0m \u001b[32m38.5/38.5 MB\u001b[0m \u001b[31m5.3 MB/s\u001b[0m eta \u001b[36m0:00:00\u001b[0m00:01\u001b[0m00:01\u001b[0mm\n",
      "\u001b[?25hUsing cached numpy-1.26.4-cp39-cp39-manylinux_2_17_x86_64.manylinux2014_x86_64.whl (18.2 MB)\n",
      "Installing collected packages: tqdm, python-magic, python-dotenv, numpy, idna, cycler, chardet, certifi, scipy, opencv-python-headless, contourpy, requests-toolbelt, matplotlib, supervision, roboflow\n",
      "  Attempting uninstall: numpy\n",
      "    Found existing installation: numpy 1.21.6\n",
      "    Uninstalling numpy-1.21.6:\n",
      "      Successfully uninstalled numpy-1.21.6\n",
      "  Attempting uninstall: idna\n",
      "    Found existing installation: idna 3.6\n",
      "    Uninstalling idna-3.6:\n",
      "      Successfully uninstalled idna-3.6\n",
      "  Attempting uninstall: cycler\n",
      "    Found existing installation: cycler 0.12.1\n",
      "    Uninstalling cycler-0.12.1:\n",
      "      Successfully uninstalled cycler-0.12.1\n",
      "  Attempting uninstall: certifi\n",
      "    Found existing installation: certifi 2023.11.17\n",
      "    Uninstalling certifi-2023.11.17:\n",
      "      Successfully uninstalled certifi-2023.11.17\n",
      "  Attempting uninstall: scipy\n",
      "    Found existing installation: scipy 1.8.0\n",
      "    Uninstalling scipy-1.8.0:\n",
      "      Successfully uninstalled scipy-1.8.0\n",
      "  Attempting uninstall: matplotlib\n",
      "    Found existing installation: matplotlib 3.5.2\n",
      "    Uninstalling matplotlib-3.5.2:\n",
      "      Successfully uninstalled matplotlib-3.5.2\n",
      "\u001b[31mERROR: pip's dependency resolver does not currently take into account all the packages that are installed. This behaviour is the source of the following dependency conflicts.\n",
      "numba 0.57.1 requires numpy<1.25,>=1.21, but you have numpy 1.26.4 which is incompatible.\u001b[0m\u001b[31m\n",
      "\u001b[0mSuccessfully installed certifi-2023.7.22 chardet-4.0.0 contourpy-1.2.0 cycler-0.10.0 idna-2.10 matplotlib-3.8.3 numpy-1.26.4 opencv-python-headless-4.8.0.74 python-dotenv-1.0.1 python-magic-0.4.27 requests-toolbelt-1.0.0 roboflow-1.1.19 scipy-1.12.0 supervision-0.18.0 tqdm-4.66.2\n"
     ]
    }
   ],
   "source": [
    "!pip install roboflow"
   ]
  },
  {
   "cell_type": "code",
   "execution_count": 4,
   "id": "8700426c-b87c-41d4-be08-4cba31bd9a4f",
   "metadata": {
    "execution": {
     "iopub.execute_input": "2024-02-23T17:50:44.587078Z",
     "iopub.status.busy": "2024-02-23T17:50:44.586495Z",
     "iopub.status.idle": "2024-02-23T17:50:44.748179Z",
     "shell.execute_reply": "2024-02-23T17:50:44.747482Z",
     "shell.execute_reply.started": "2024-02-23T17:50:44.587040Z"
    },
    "tags": []
   },
   "outputs": [],
   "source": [
    "import roboflow\n",
    "\n",
    "rf = roboflow.Roboflow(api_key=\"GUByjmPRqkLtLWa5i8Db\")"
   ]
  },
  {
   "cell_type": "code",
   "execution_count": 6,
   "id": "b76b422c-788c-42cf-b2b2-09af88270495",
   "metadata": {
    "execution": {
     "iopub.execute_input": "2024-02-23T17:50:59.434777Z",
     "iopub.status.busy": "2024-02-23T17:50:59.434404Z",
     "iopub.status.idle": "2024-02-23T17:50:59.440412Z",
     "shell.execute_reply": "2024-02-23T17:50:59.439503Z",
     "shell.execute_reply.started": "2024-02-23T17:50:59.434746Z"
    },
    "tags": []
   },
   "outputs": [
    {
     "data": {
      "text/plain": [
       "['__class__',\n",
       " '__delattr__',\n",
       " '__dict__',\n",
       " '__dir__',\n",
       " '__doc__',\n",
       " '__eq__',\n",
       " '__format__',\n",
       " '__ge__',\n",
       " '__getattribute__',\n",
       " '__gt__',\n",
       " '__hash__',\n",
       " '__init__',\n",
       " '__init_subclass__',\n",
       " '__le__',\n",
       " '__lt__',\n",
       " '__module__',\n",
       " '__ne__',\n",
       " '__new__',\n",
       " '__reduce__',\n",
       " '__reduce_ex__',\n",
       " '__repr__',\n",
       " '__setattr__',\n",
       " '__sizeof__',\n",
       " '__str__',\n",
       " '__subclasshook__',\n",
       " '__weakref__',\n",
       " 'api_key',\n",
       " 'auth',\n",
       " 'current_workspace',\n",
       " 'model_format',\n",
       " 'notebook',\n",
       " 'onboarding',\n",
       " 'project',\n",
       " 'workspace']"
      ]
     },
     "execution_count": 6,
     "metadata": {},
     "output_type": "execute_result"
    }
   ],
   "source": [
    "dir(rf)"
   ]
  },
  {
   "cell_type": "code",
   "execution_count": 12,
   "id": "ae372ef3-ef03-4b1e-9683-b0d74e028e1d",
   "metadata": {
    "execution": {
     "iopub.execute_input": "2024-02-23T17:53:45.067430Z",
     "iopub.status.busy": "2024-02-23T17:53:45.067042Z",
     "iopub.status.idle": "2024-02-23T17:53:45.375616Z",
     "shell.execute_reply": "2024-02-23T17:53:45.372163Z",
     "shell.execute_reply.started": "2024-02-23T17:53:45.067389Z"
    },
    "tags": []
   },
   "outputs": [
    {
     "name": "stdout",
     "output_type": "stream",
     "text": [
      "loading Roboflow workspace...\n",
      "{\n",
      "  \"name\": \"solarflarelabelling\",\n",
      "  \"url\": \"solarflarelabelling\",\n",
      "  \"projects\": [\n",
      "    \"solarflarelabelling/hard-hat-sample-bfsbc\",\n",
      "    \"solarflarelabelling/solar-flare-labelling\"\n",
      "  ]\n",
      "}\n",
      "loading Roboflow project...\n",
      "{\n",
      "  \"name\": \"solar-flare-labelling\",\n",
      "  \"type\": \"object-detection\",\n",
      "  \"workspace\": \"solarflarelabelling\"\n",
      "}\n"
     ]
    }
   ],
   "source": [
    "workspace = rf.workspace(\"solarflarelabelling\")\n",
    "print(workspace)\n",
    "project = workspace.project(\"solar-flare-labelling\")\n",
    "print(project)"
   ]
  },
  {
   "cell_type": "code",
   "execution_count": 1,
   "id": "f6a4fcd6-458b-4b1a-9f46-f8dbd89c454d",
   "metadata": {
    "execution": {
     "iopub.execute_input": "2024-02-23T17:58:41.085373Z",
     "iopub.status.busy": "2024-02-23T17:58:41.084379Z",
     "iopub.status.idle": "2024-02-23T17:58:41.097938Z",
     "shell.execute_reply": "2024-02-23T17:58:41.097172Z",
     "shell.execute_reply.started": "2024-02-23T17:58:41.085326Z"
    },
    "tags": []
   },
   "outputs": [],
   "source": [
    "import os"
   ]
  },
  {
   "cell_type": "code",
   "execution_count": 3,
   "id": "ded71635-395d-491e-8477-3b6d2e67c2ff",
   "metadata": {
    "execution": {
     "iopub.execute_input": "2024-02-23T17:59:04.983626Z",
     "iopub.status.busy": "2024-02-23T17:59:04.983259Z",
     "iopub.status.idle": "2024-02-23T17:59:04.988094Z",
     "shell.execute_reply": "2024-02-23T17:59:04.987165Z",
     "shell.execute_reply.started": "2024-02-23T17:59:04.983596Z"
    },
    "tags": []
   },
   "outputs": [
    {
     "name": "stdout",
     "output_type": "stream",
     "text": [
      "None\n"
     ]
    }
   ],
   "source": [
    "roboflow_api_key = os.environ.get('ROBOFLOW')\n",
    "print(roboflow_api_key)"
   ]
  }
 ],
 "metadata": {
  "kernelspec": {
   "display_name": "saturn (Python 3)",
   "language": "python",
   "name": "python3"
  },
  "language_info": {
   "codemirror_mode": {
    "name": "ipython",
    "version": 3
   },
   "file_extension": ".py",
   "mimetype": "text/x-python",
   "name": "python",
   "nbconvert_exporter": "python",
   "pygments_lexer": "ipython3",
   "version": "3.9.15"
  }
 },
 "nbformat": 4,
 "nbformat_minor": 5
}
