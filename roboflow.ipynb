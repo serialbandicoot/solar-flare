{
 "cells": [
  {
   "cell_type": "markdown",
   "id": "90450e99-7ece-4d6c-ad90-3405f40a1386",
   "metadata": {
    "execution": {
     "iopub.execute_input": "2024-02-23T17:42:58.485210Z",
     "iopub.status.busy": "2024-02-23T17:42:58.484834Z",
     "iopub.status.idle": "2024-02-23T17:42:58.489130Z",
     "shell.execute_reply": "2024-02-23T17:42:58.488272Z",
     "shell.execute_reply.started": "2024-02-23T17:42:58.485180Z"
    },
    "tags": []
   },
   "source": [
    "## RoboFlow DataSet\n",
    "\n",
    "Getting the roboflow ..."
   ]
  },
  {
   "cell_type": "code",
   "execution_count": 2,
   "id": "ae372ef3-ef03-4b1e-9683-b0d74e028e1d",
   "metadata": {
    "execution": {
     "iopub.execute_input": "2024-02-23T17:53:45.067430Z",
     "iopub.status.busy": "2024-02-23T17:53:45.067042Z",
     "iopub.status.idle": "2024-02-23T17:53:45.375616Z",
     "shell.execute_reply": "2024-02-23T17:53:45.372163Z",
     "shell.execute_reply.started": "2024-02-23T17:53:45.067389Z"
    },
    "tags": []
   },
   "outputs": [
    {
     "name": "stdout",
     "output_type": "stream",
     "text": [
      "None\n",
      "None\n",
      "loading Roboflow workspace...\n",
      "loading Roboflow project...\n"
     ]
    },
    {
     "ename": "RuntimeError",
     "evalue": "{'error': 'fred is an invalid format for project type object-detection. Please use one of: clip, coco, coco-mmdetection, createml, darknet, multiclass, tensorflow, tfrecord, voc, yolokeras, yolov4pytorch, yolov4scaled, yolov5-obb, yolov5pytorch, yolov7pytorch, yolov8, yolov8-obb, yolov9, mt-yolov6, retinanet, benchmarker.'}",
     "output_type": "error",
     "traceback": [
      "\u001b[0;31m---------------------------------------------------------------------------\u001b[0m",
      "\u001b[0;31mRuntimeError\u001b[0m                              Traceback (most recent call last)",
      "Cell \u001b[0;32mIn[2], line 16\u001b[0m\n\u001b[1;32m     14\u001b[0m project \u001b[38;5;241m=\u001b[39m workspace\u001b[38;5;241m.\u001b[39mproject(\u001b[38;5;124m\"\u001b[39m\u001b[38;5;124msolar-flare-labelling\u001b[39m\u001b[38;5;124m\"\u001b[39m)\n\u001b[1;32m     15\u001b[0m version \u001b[38;5;241m=\u001b[39m project\u001b[38;5;241m.\u001b[39mversion(\u001b[38;5;124m\"\u001b[39m\u001b[38;5;124m1\u001b[39m\u001b[38;5;124m\"\u001b[39m)\n\u001b[0;32m---> 16\u001b[0m \u001b[43mversion\u001b[49m\u001b[38;5;241;43m.\u001b[39;49m\u001b[43mdownload\u001b[49m\u001b[43m(\u001b[49m\u001b[43mmodel_format\u001b[49m\u001b[38;5;241;43m=\u001b[39;49m\u001b[38;5;124;43m\"\u001b[39;49m\u001b[38;5;124;43mfred\u001b[39;49m\u001b[38;5;124;43m\"\u001b[39;49m\u001b[43m,\u001b[49m\u001b[43m \u001b[49m\u001b[43mlocation\u001b[49m\u001b[38;5;241;43m=\u001b[39;49m\u001b[38;5;124;43m\"\u001b[39;49m\u001b[38;5;124;43m./dataset/yolov8_v1\u001b[39;49m\u001b[38;5;124;43m\"\u001b[39;49m\u001b[43m)\u001b[49m\n",
      "File \u001b[0;32m~/BJSS/MetOffice/solar-flare/.venv/lib/python3.11/site-packages/roboflow/core/version.py:199\u001b[0m, in \u001b[0;36mVersion.download\u001b[0;34m(self, model_format, location, overwrite)\u001b[0m\n\u001b[1;32m    196\u001b[0m model_format \u001b[38;5;241m=\u001b[39m \u001b[38;5;28mself\u001b[39m\u001b[38;5;241m.\u001b[39m__get_format_identifier(model_format)\n\u001b[1;32m    198\u001b[0m \u001b[38;5;28;01mif\u001b[39;00m model_format \u001b[38;5;129;01mnot\u001b[39;00m \u001b[38;5;129;01min\u001b[39;00m \u001b[38;5;28mself\u001b[39m\u001b[38;5;241m.\u001b[39mexports:\n\u001b[0;32m--> 199\u001b[0m     \u001b[38;5;28;43mself\u001b[39;49m\u001b[38;5;241;43m.\u001b[39;49m\u001b[43mexport\u001b[49m\u001b[43m(\u001b[49m\u001b[43mmodel_format\u001b[49m\u001b[43m)\u001b[49m\n\u001b[1;32m    201\u001b[0m \u001b[38;5;66;03m# if model_format is not in\u001b[39;00m\n\u001b[1;32m    203\u001b[0m \u001b[38;5;28;01mif\u001b[39;00m location \u001b[38;5;129;01mis\u001b[39;00m \u001b[38;5;28;01mNone\u001b[39;00m:\n",
      "File \u001b[0;32m~/BJSS/MetOffice/solar-flare/.venv/lib/python3.11/site-packages/roboflow/core/version.py:252\u001b[0m, in \u001b[0;36mVersion.export\u001b[0;34m(self, model_format)\u001b[0m\n\u001b[1;32m    250\u001b[0m \u001b[38;5;28;01mif\u001b[39;00m \u001b[38;5;129;01mnot\u001b[39;00m response\u001b[38;5;241m.\u001b[39mok:\n\u001b[1;32m    251\u001b[0m     \u001b[38;5;28;01mtry\u001b[39;00m:\n\u001b[0;32m--> 252\u001b[0m         \u001b[38;5;28;01mraise\u001b[39;00m \u001b[38;5;167;01mRuntimeError\u001b[39;00m(response\u001b[38;5;241m.\u001b[39mjson())\n\u001b[1;32m    253\u001b[0m     \u001b[38;5;28;01mexcept\u001b[39;00m json\u001b[38;5;241m.\u001b[39mJSONDecodeError:\n\u001b[1;32m    254\u001b[0m         response\u001b[38;5;241m.\u001b[39mraise_for_status()\n",
      "\u001b[0;31mRuntimeError\u001b[0m: {'error': 'fred is an invalid format for project type object-detection. Please use one of: clip, coco, coco-mmdetection, createml, darknet, multiclass, tensorflow, tfrecord, voc, yolokeras, yolov4pytorch, yolov4scaled, yolov5-obb, yolov5pytorch, yolov7pytorch, yolov8, yolov8-obb, yolov9, mt-yolov6, retinanet, benchmarker.'}"
     ]
    }
   ],
   "source": [
    "#%pip install roboflow\n",
    "\n",
    "import os\n",
    "import roboflow\n",
    "\n",
    "import os\n",
    "print(os.environ.get(\"ROBOFLOW\"))\n",
    "\n",
    "roboflow_api_key = os.environ.get('ROBOFLOW')\n",
    "print(roboflow_api_key)\n",
    "\n",
    "rf = roboflow.Roboflow(api_key=\"GUByjmPRqkLtLWa5i8Db\")\n",
    "workspace = rf.workspace(\"solarflarelabelling\")\n",
    "project = workspace.project(\"solar-flare-labelling\")\n",
    "version = project.version(\"1\")\n",
    "version.download(model_format=\"fred\", location=\"./dataset/yolov8_v1\")"
   ]
  }
 ],
 "metadata": {
  "kernelspec": {
   "display_name": "saturn (Python 3)",
   "language": "python",
   "name": "python3"
  },
  "language_info": {
   "codemirror_mode": {
    "name": "ipython",
    "version": 3
   },
   "file_extension": ".py",
   "mimetype": "text/x-python",
   "name": "python",
   "nbconvert_exporter": "python",
   "pygments_lexer": "ipython3",
   "version": "3.11.5"
  }
 },
 "nbformat": 4,
 "nbformat_minor": 5
}
