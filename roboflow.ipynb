{
 "cells": [
  {
   "cell_type": "markdown",
   "id": "90450e99-7ece-4d6c-ad90-3405f40a1386",
   "metadata": {
    "execution": {
     "iopub.execute_input": "2024-02-23T17:42:58.485210Z",
     "iopub.status.busy": "2024-02-23T17:42:58.484834Z",
     "iopub.status.idle": "2024-02-23T17:42:58.489130Z",
     "shell.execute_reply": "2024-02-23T17:42:58.488272Z",
     "shell.execute_reply.started": "2024-02-23T17:42:58.485180Z"
    },
    "tags": []
   },
   "source": [
    "## RoboFlow DataSet"
   ]
  },
  {
   "cell_type": "code",
   "execution_count": 2,
   "id": "1f86b16e",
   "metadata": {},
   "outputs": [
    {
     "name": "stdout",
     "output_type": "stream",
     "text": [
      "Collecting roboflow\n",
      "  Using cached roboflow-1.1.21-py3-none-any.whl.metadata (9.3 kB)\n",
      "Collecting certifi==2023.7.22 (from roboflow)\n",
      "  Using cached certifi-2023.7.22-py3-none-any.whl.metadata (2.2 kB)\n",
      "Collecting chardet==4.0.0 (from roboflow)\n",
      "  Using cached chardet-4.0.0-py2.py3-none-any.whl.metadata (3.5 kB)\n",
      "Collecting cycler==0.10.0 (from roboflow)\n",
      "  Using cached cycler-0.10.0-py2.py3-none-any.whl.metadata (722 bytes)\n",
      "Collecting idna==2.10 (from roboflow)\n",
      "  Using cached idna-2.10-py2.py3-none-any.whl.metadata (9.1 kB)\n",
      "Collecting kiwisolver>=1.3.1 (from roboflow)\n",
      "  Using cached kiwisolver-1.4.5-cp39-cp39-macosx_11_0_arm64.whl.metadata (6.4 kB)\n",
      "Collecting matplotlib (from roboflow)\n",
      "  Using cached matplotlib-3.8.3-cp39-cp39-macosx_11_0_arm64.whl.metadata (5.8 kB)\n",
      "Requirement already satisfied: numpy>=1.18.5 in ./.venv/lib/python3.9/site-packages (from roboflow) (1.26.4)\n",
      "Collecting opencv-python-headless==4.8.0.74 (from roboflow)\n",
      "  Using cached opencv_python_headless-4.8.0.74-cp37-abi3-macosx_11_0_arm64.whl.metadata (19 kB)\n",
      "Collecting Pillow>=7.1.2 (from roboflow)\n",
      "  Using cached pillow-10.2.0-cp39-cp39-macosx_11_0_arm64.whl.metadata (9.7 kB)\n",
      "Requirement already satisfied: python-dateutil in ./.venv/lib/python3.9/site-packages (from roboflow) (2.9.0.post0)\n",
      "Collecting python-dotenv (from roboflow)\n",
      "  Using cached python_dotenv-1.0.1-py3-none-any.whl.metadata (23 kB)\n",
      "Requirement already satisfied: requests in ./.venv/lib/python3.9/site-packages (from roboflow) (2.31.0)\n",
      "Requirement already satisfied: six in ./.venv/lib/python3.9/site-packages (from roboflow) (1.16.0)\n",
      "Collecting supervision (from roboflow)\n",
      "  Using cached supervision-0.18.0-py3-none-any.whl.metadata (12 kB)\n",
      "Requirement already satisfied: urllib3>=1.26.6 in ./.venv/lib/python3.9/site-packages (from roboflow) (2.2.1)\n",
      "Requirement already satisfied: tqdm>=4.41.0 in ./.venv/lib/python3.9/site-packages (from roboflow) (4.66.2)\n",
      "Collecting PyYAML>=5.3.1 (from roboflow)\n",
      "  Using cached PyYAML-6.0.1-cp39-cp39-macosx_11_0_arm64.whl.metadata (2.1 kB)\n",
      "Collecting requests-toolbelt (from roboflow)\n",
      "  Using cached requests_toolbelt-1.0.0-py2.py3-none-any.whl.metadata (14 kB)\n",
      "Collecting python-magic (from roboflow)\n",
      "  Using cached python_magic-0.4.27-py2.py3-none-any.whl.metadata (5.8 kB)\n",
      "Collecting contourpy>=1.0.1 (from matplotlib->roboflow)\n",
      "  Using cached contourpy-1.2.0-cp39-cp39-macosx_11_0_arm64.whl.metadata (5.8 kB)\n",
      "Collecting fonttools>=4.22.0 (from matplotlib->roboflow)\n",
      "  Using cached fonttools-4.49.0-cp39-cp39-macosx_10_9_universal2.whl.metadata (159 kB)\n",
      "Requirement already satisfied: packaging>=20.0 in ./.venv/lib/python3.9/site-packages (from matplotlib->roboflow) (23.2)\n",
      "Collecting pyparsing>=2.3.1 (from matplotlib->roboflow)\n",
      "  Using cached pyparsing-3.1.1-py3-none-any.whl.metadata (5.1 kB)\n",
      "Requirement already satisfied: importlib-resources>=3.2.0 in ./.venv/lib/python3.9/site-packages (from matplotlib->roboflow) (6.1.2)\n",
      "Requirement already satisfied: charset-normalizer<4,>=2 in ./.venv/lib/python3.9/site-packages (from requests->roboflow) (3.3.2)\n",
      "Collecting defusedxml<0.8.0,>=0.7.1 (from supervision->roboflow)\n",
      "  Using cached defusedxml-0.7.1-py2.py3-none-any.whl.metadata (32 kB)\n",
      "Collecting scipy<2.0.0,>=1.10.0 (from supervision->roboflow)\n",
      "  Using cached scipy-1.12.0-cp39-cp39-macosx_12_0_arm64.whl.metadata (60 kB)\n",
      "Requirement already satisfied: zipp>=3.1.0 in ./.venv/lib/python3.9/site-packages (from importlib-resources>=3.2.0->matplotlib->roboflow) (3.17.0)\n",
      "Using cached roboflow-1.1.21-py3-none-any.whl (70 kB)\n",
      "Using cached certifi-2023.7.22-py3-none-any.whl (158 kB)\n",
      "Using cached chardet-4.0.0-py2.py3-none-any.whl (178 kB)\n",
      "Using cached cycler-0.10.0-py2.py3-none-any.whl (6.5 kB)\n",
      "Using cached idna-2.10-py2.py3-none-any.whl (58 kB)\n",
      "Using cached opencv_python_headless-4.8.0.74-cp37-abi3-macosx_11_0_arm64.whl (33.1 MB)\n",
      "Using cached kiwisolver-1.4.5-cp39-cp39-macosx_11_0_arm64.whl (66 kB)\n",
      "Using cached pillow-10.2.0-cp39-cp39-macosx_11_0_arm64.whl (3.3 MB)\n",
      "Using cached PyYAML-6.0.1-cp39-cp39-macosx_11_0_arm64.whl (174 kB)\n",
      "Using cached matplotlib-3.8.3-cp39-cp39-macosx_11_0_arm64.whl (7.5 MB)\n",
      "Using cached python_dotenv-1.0.1-py3-none-any.whl (19 kB)\n",
      "Using cached python_magic-0.4.27-py2.py3-none-any.whl (13 kB)\n",
      "Using cached requests_toolbelt-1.0.0-py2.py3-none-any.whl (54 kB)\n",
      "Using cached supervision-0.18.0-py3-none-any.whl (86 kB)\n",
      "Using cached contourpy-1.2.0-cp39-cp39-macosx_11_0_arm64.whl (242 kB)\n",
      "Using cached defusedxml-0.7.1-py2.py3-none-any.whl (25 kB)\n",
      "Using cached fonttools-4.49.0-cp39-cp39-macosx_10_9_universal2.whl (2.8 MB)\n",
      "Using cached pyparsing-3.1.1-py3-none-any.whl (103 kB)\n",
      "Using cached scipy-1.12.0-cp39-cp39-macosx_12_0_arm64.whl (31.4 MB)\n",
      "Installing collected packages: scipy, PyYAML, python-magic, python-dotenv, pyparsing, Pillow, opencv-python-headless, kiwisolver, idna, fonttools, defusedxml, cycler, contourpy, chardet, certifi, matplotlib, supervision, requests-toolbelt, roboflow\n",
      "  Attempting uninstall: idna\n",
      "    Found existing installation: idna 3.6\n",
      "    Uninstalling idna-3.6:\n",
      "      Successfully uninstalled idna-3.6\n",
      "  Attempting uninstall: certifi\n",
      "    Found existing installation: certifi 2024.2.2\n",
      "    Uninstalling certifi-2024.2.2:\n",
      "      Successfully uninstalled certifi-2024.2.2\n",
      "\u001b[31mERROR: pip's dependency resolver does not currently take into account all the packages that are installed. This behaviour is the source of the following dependency conflicts.\n",
      "tensorflow-macos 2.15.0 requires keras<2.16,>=2.15.0, but you have keras 3.0.5 which is incompatible.\u001b[0m\u001b[31m\n",
      "\u001b[0mSuccessfully installed Pillow-10.2.0 PyYAML-6.0.1 certifi-2023.7.22 chardet-4.0.0 contourpy-1.2.0 cycler-0.10.0 defusedxml-0.7.1 fonttools-4.49.0 idna-2.10 kiwisolver-1.4.5 matplotlib-3.8.3 opencv-python-headless-4.8.0.74 pyparsing-3.1.1 python-dotenv-1.0.1 python-magic-0.4.27 requests-toolbelt-1.0.0 roboflow-1.1.21 scipy-1.12.0 supervision-0.18.0\n"
     ]
    }
   ],
   "source": [
    "!pip install roboflow"
   ]
  },
  {
   "cell_type": "code",
   "execution_count": 4,
   "id": "ae372ef3-ef03-4b1e-9683-b0d74e028e1d",
   "metadata": {
    "execution": {
     "iopub.execute_input": "2024-02-23T17:53:45.067430Z",
     "iopub.status.busy": "2024-02-23T17:53:45.067042Z",
     "iopub.status.idle": "2024-02-23T17:53:45.375616Z",
     "shell.execute_reply": "2024-02-23T17:53:45.372163Z",
     "shell.execute_reply.started": "2024-02-23T17:53:45.067389Z"
    },
    "tags": []
   },
   "outputs": [],
   "source": [
    "import os, shutil\n",
    "import roboflow"
   ]
  },
  {
   "cell_type": "code",
   "execution_count": 5,
   "id": "fa3b5197",
   "metadata": {},
   "outputs": [
    {
     "name": "stdout",
     "output_type": "stream",
     "text": [
      "Directories removed successfully.\n",
      "GUByjmPRqkLtLWa5i8Db\n",
      "loading Roboflow workspace...\n",
      "loading Roboflow project...\n"
     ]
    },
    {
     "name": "stderr",
     "output_type": "stream",
     "text": [
      "Downloading Dataset Version Zip in ./dataset/voc_v1 to voc:: 100%|██████████| 2360/2360 [00:01<00:00, 1403.16it/s]"
     ]
    },
    {
     "name": "stdout",
     "output_type": "stream",
     "text": [
      "\n"
     ]
    },
    {
     "name": "stderr",
     "output_type": "stream",
     "text": [
      "\n",
      "Extracting Dataset Version Zip to ./dataset/voc_v1 in voc:: 100%|██████████| 51/51 [00:00<00:00, 7116.79it/s]"
     ]
    },
    {
     "name": "stdout",
     "output_type": "stream",
     "text": [
      "Removed directory: ./dataset/voc_v1/test\n",
      "Removed directory: ./dataset/voc_v1/train\n",
      "Removed directory: ./dataset/voc_v1/valid\n",
      "Dataset merged successfully.\n",
      "Dataset setup completed successfully.\n"
     ]
    },
    {
     "name": "stderr",
     "output_type": "stream",
     "text": [
      "\n"
     ]
    }
   ],
   "source": [
    "def remove_directories(data_dir, voc_v1_dir):\n",
    "    \"\"\"Remove directories /dataset/voc_v1/data and /dataset/voc_v1.\"\"\"\n",
    "    try:\n",
    "        shutil.rmtree(data_dir)\n",
    "        shutil.rmtree(voc_v1_dir)\n",
    "        print(\"Directories removed successfully.\")\n",
    "    except FileNotFoundError:\n",
    "        print(\"Directories not found. Skipping removal.\")\n",
    "\n",
    "def download_dataset(roboflow_api_key):\n",
    "    \"\"\"Download dataset using Roboflow API.\"\"\"\n",
    "    rf = roboflow.Roboflow(api_key=roboflow_api_key)\n",
    "    workspace = rf.workspace(\"solarflarelabelling\")\n",
    "    project = workspace.project(\"solar-flare-labelling\")\n",
    "    version = project.version(\"1\")\n",
    "    version.download(model_format=\"voc\", location=\"./dataset/voc_v1\")\n",
    "\n",
    "def merge_dataset(images_dir, annotations_dir):\n",
    "    \"\"\"Merge dataset into one folder.\"\"\"\n",
    "    # Directories to remove\n",
    "    old_dirs = [\"test\", \"train\", \"valid\"]\n",
    "    \n",
    "    # Create directories if they don't exist\n",
    "    os.makedirs(images_dir, exist_ok=True)\n",
    "    os.makedirs(annotations_dir, exist_ok=True)\n",
    "\n",
    "    # Move image files to images folder and annotation files to annotations folder\n",
    "    for root, dirs, files in os.walk(\"./dataset/voc_v1\"):\n",
    "        for file in files:\n",
    "            if file.endswith(\".png\") or file.endswith(\".jpg\"):\n",
    "                shutil.move(os.path.join(root, file), os.path.join(images_dir, file))\n",
    "            elif file.endswith(\".xml\"):\n",
    "                shutil.move(os.path.join(root, file), os.path.join(annotations_dir, file))\n",
    "\n",
    "    # Remove old directories if they exist\n",
    "    for directory in old_dirs:\n",
    "        dir_path = os.path.join(\"./dataset/voc_v1\", directory)\n",
    "        if os.path.exists(dir_path):\n",
    "            shutil.rmtree(dir_path)\n",
    "            print(f\"Removed directory: {dir_path}\")\n",
    "\n",
    "    print(\"Dataset merged successfully.\")\n",
    "\n",
    "def setup():\n",
    "    # Directories\n",
    "    data_dir = \"./dataset/voc_v1/data\"\n",
    "    voc_v1_dir = \"./dataset/voc_v1\"\n",
    "    images_dir = \"./dataset/voc_v1/data/images/\"\n",
    "    annotations_dir = \"./dataset/voc_v1/data/annotations/\"\n",
    "\n",
    "    # Remove directories\n",
    "    remove_directories(data_dir, voc_v1_dir)\n",
    "\n",
    "    # Download dataset using Roboflow API\n",
    "    roboflow_api_key = os.environ.get('ROBOFLOW')\n",
    "    print(roboflow_api_key)\n",
    "    download_dataset(roboflow_api_key)\n",
    "\n",
    "    # Merge dataset into one folder\n",
    "    merge_dataset(images_dir, annotations_dir)\n",
    "\n",
    "    print(\"Dataset setup completed successfully.\")\n",
    "\n",
    "setup()\n"
   ]
  },
  {
   "cell_type": "code",
   "execution_count": null,
   "id": "c684bec2",
   "metadata": {},
   "outputs": [],
   "source": []
  },
  {
   "cell_type": "code",
   "execution_count": null,
   "id": "6e4ad4bf",
   "metadata": {},
   "outputs": [],
   "source": []
  }
 ],
 "metadata": {
  "kernelspec": {
   "display_name": "saturn (Python 3)",
   "language": "python",
   "name": "python3"
  },
  "language_info": {
   "codemirror_mode": {
    "name": "ipython",
    "version": 3
   },
   "file_extension": ".py",
   "mimetype": "text/x-python",
   "name": "python",
   "nbconvert_exporter": "python",
   "pygments_lexer": "ipython3",
   "version": "3.9.18"
  }
 },
 "nbformat": 4,
 "nbformat_minor": 5
}
