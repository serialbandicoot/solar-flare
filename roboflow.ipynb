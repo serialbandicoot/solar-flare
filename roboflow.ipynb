{
 "cells": [
  {
   "cell_type": "markdown",
   "id": "90450e99-7ece-4d6c-ad90-3405f40a1386",
   "metadata": {
    "execution": {
     "iopub.execute_input": "2024-02-23T17:42:58.485210Z",
     "iopub.status.busy": "2024-02-23T17:42:58.484834Z",
     "iopub.status.idle": "2024-02-23T17:42:58.489130Z",
     "shell.execute_reply": "2024-02-23T17:42:58.488272Z",
     "shell.execute_reply.started": "2024-02-23T17:42:58.485180Z"
    },
    "tags": []
   },
   "source": [
    "## RoboFlow DataSet"
   ]
  },
  {
   "cell_type": "code",
   "execution_count": 1,
   "id": "1f86b16e",
   "metadata": {},
   "outputs": [
    {
     "name": "stdout",
     "output_type": "stream",
     "text": [
      "Requirement already satisfied: roboflow in ./.venv/lib/python3.9/site-packages (1.1.21)\n",
      "Requirement already satisfied: certifi==2023.7.22 in ./.venv/lib/python3.9/site-packages (from roboflow) (2023.7.22)\n",
      "Requirement already satisfied: chardet==4.0.0 in ./.venv/lib/python3.9/site-packages (from roboflow) (4.0.0)\n",
      "Requirement already satisfied: cycler==0.10.0 in ./.venv/lib/python3.9/site-packages (from roboflow) (0.10.0)\n",
      "Requirement already satisfied: idna==2.10 in ./.venv/lib/python3.9/site-packages (from roboflow) (2.10)\n",
      "Requirement already satisfied: kiwisolver>=1.3.1 in ./.venv/lib/python3.9/site-packages (from roboflow) (1.4.5)\n",
      "Requirement already satisfied: matplotlib in ./.venv/lib/python3.9/site-packages (from roboflow) (3.8.3)\n",
      "Requirement already satisfied: numpy>=1.18.5 in ./.venv/lib/python3.9/site-packages (from roboflow) (1.26.4)\n",
      "Requirement already satisfied: opencv-python-headless==4.8.0.74 in ./.venv/lib/python3.9/site-packages (from roboflow) (4.8.0.74)\n",
      "Requirement already satisfied: Pillow>=7.1.2 in ./.venv/lib/python3.9/site-packages (from roboflow) (10.2.0)\n",
      "Requirement already satisfied: python-dateutil in ./.venv/lib/python3.9/site-packages (from roboflow) (2.9.0.post0)\n",
      "Requirement already satisfied: python-dotenv in ./.venv/lib/python3.9/site-packages (from roboflow) (1.0.1)\n",
      "Requirement already satisfied: requests in ./.venv/lib/python3.9/site-packages (from roboflow) (2.31.0)\n",
      "Requirement already satisfied: six in ./.venv/lib/python3.9/site-packages (from roboflow) (1.16.0)\n",
      "Requirement already satisfied: supervision in ./.venv/lib/python3.9/site-packages (from roboflow) (0.18.0)\n",
      "Requirement already satisfied: urllib3>=1.26.6 in ./.venv/lib/python3.9/site-packages (from roboflow) (2.2.1)\n",
      "Requirement already satisfied: tqdm>=4.41.0 in ./.venv/lib/python3.9/site-packages (from roboflow) (4.66.2)\n",
      "Requirement already satisfied: PyYAML>=5.3.1 in ./.venv/lib/python3.9/site-packages (from roboflow) (6.0.1)\n",
      "Requirement already satisfied: requests-toolbelt in ./.venv/lib/python3.9/site-packages (from roboflow) (1.0.0)\n",
      "Requirement already satisfied: python-magic in ./.venv/lib/python3.9/site-packages (from roboflow) (0.4.27)\n",
      "Requirement already satisfied: contourpy>=1.0.1 in ./.venv/lib/python3.9/site-packages (from matplotlib->roboflow) (1.2.0)\n",
      "Requirement already satisfied: fonttools>=4.22.0 in ./.venv/lib/python3.9/site-packages (from matplotlib->roboflow) (4.49.0)\n",
      "Requirement already satisfied: packaging>=20.0 in ./.venv/lib/python3.9/site-packages (from matplotlib->roboflow) (23.2)\n",
      "Requirement already satisfied: pyparsing>=2.3.1 in ./.venv/lib/python3.9/site-packages (from matplotlib->roboflow) (3.1.1)\n",
      "Requirement already satisfied: importlib-resources>=3.2.0 in ./.venv/lib/python3.9/site-packages (from matplotlib->roboflow) (6.1.2)\n",
      "Requirement already satisfied: charset-normalizer<4,>=2 in ./.venv/lib/python3.9/site-packages (from requests->roboflow) (3.3.2)\n",
      "Requirement already satisfied: defusedxml<0.8.0,>=0.7.1 in ./.venv/lib/python3.9/site-packages (from supervision->roboflow) (0.7.1)\n",
      "Requirement already satisfied: scipy<2.0.0,>=1.10.0 in ./.venv/lib/python3.9/site-packages (from supervision->roboflow) (1.12.0)\n",
      "Requirement already satisfied: zipp>=3.1.0 in ./.venv/lib/python3.9/site-packages (from importlib-resources>=3.2.0->matplotlib->roboflow) (3.17.0)\n"
     ]
    }
   ],
   "source": [
    "!pip install roboflow"
   ]
  },
  {
   "cell_type": "code",
   "execution_count": 2,
   "id": "ae372ef3-ef03-4b1e-9683-b0d74e028e1d",
   "metadata": {
    "execution": {
     "iopub.execute_input": "2024-02-23T17:53:45.067430Z",
     "iopub.status.busy": "2024-02-23T17:53:45.067042Z",
     "iopub.status.idle": "2024-02-23T17:53:45.375616Z",
     "shell.execute_reply": "2024-02-23T17:53:45.372163Z",
     "shell.execute_reply.started": "2024-02-23T17:53:45.067389Z"
    },
    "tags": []
   },
   "outputs": [],
   "source": [
    "import os, shutil\n",
    "import roboflow"
   ]
  },
  {
   "cell_type": "code",
   "execution_count": 3,
   "id": "fa3b5197",
   "metadata": {},
   "outputs": [
    {
     "name": "stdout",
     "output_type": "stream",
     "text": [
      "Directories not found. Skipping removal.\n",
      "GUByjmPRqkLtLWa5i8Db\n",
      "loading Roboflow workspace...\n",
      "loading Roboflow project...\n"
     ]
    },
    {
     "name": "stderr",
     "output_type": "stream",
     "text": [
      "Downloading Dataset Version Zip in ./dataset/voc_v1 to voc:: 100%|██████████| 2360/2360 [00:04<00:00, 493.43it/s]"
     ]
    },
    {
     "name": "stdout",
     "output_type": "stream",
     "text": [
      "\n"
     ]
    },
    {
     "name": "stderr",
     "output_type": "stream",
     "text": [
      "\n",
      "Extracting Dataset Version Zip to ./dataset/voc_v1 in voc:: 100%|██████████| 51/51 [00:00<00:00, 2153.89it/s]"
     ]
    },
    {
     "name": "stdout",
     "output_type": "stream",
     "text": [
      "Removed directory: ./dataset/voc_v1/test\n",
      "Removed directory: ./dataset/voc_v1/train\n",
      "Removed directory: ./dataset/voc_v1/valid\n",
      "Dataset merged successfully.\n",
      "Dataset setup completed successfully.\n"
     ]
    },
    {
     "name": "stderr",
     "output_type": "stream",
     "text": [
      "\n"
     ]
    }
   ],
   "source": [
    "def remove_directories(data_dir, voc_v1_dir):\n",
    "    \"\"\"Remove directories /dataset/voc_v1/data and /dataset/voc_v1.\"\"\"\n",
    "    try:\n",
    "        shutil.rmtree(data_dir)\n",
    "        shutil.rmtree(voc_v1_dir)\n",
    "        print(\"Directories removed successfully.\")\n",
    "    except FileNotFoundError:\n",
    "        print(\"Directories not found. Skipping removal.\")\n",
    "\n",
    "def download_dataset(roboflow_api_key):\n",
    "    \"\"\"Download dataset using Roboflow API.\"\"\"\n",
    "    rf = roboflow.Roboflow(api_key=roboflow_api_key)\n",
    "    workspace = rf.workspace(\"solarflarelabelling\")\n",
    "    project = workspace.project(\"solar-flare-labelling\")\n",
    "    version = project.version(\"1\")\n",
    "    version.download(model_format=\"voc\", location=\"./dataset/voc_v1\")\n",
    "\n",
    "def merge_dataset(images_dir, annotations_dir):\n",
    "    \"\"\"Merge dataset into one folder.\"\"\"\n",
    "    # Directories to remove\n",
    "    old_dirs = [\"test\", \"train\", \"valid\"]\n",
    "    \n",
    "    # Create directories if they don't exist\n",
    "    os.makedirs(images_dir, exist_ok=True)\n",
    "    os.makedirs(annotations_dir, exist_ok=True)\n",
    "\n",
    "    # Move image files to images folder and annotation files to annotations folder\n",
    "    for root, dirs, files in os.walk(\"./dataset/voc_v1\"):\n",
    "        for file in files:\n",
    "            if file.endswith(\".png\") or file.endswith(\".jpg\"):\n",
    "                shutil.move(os.path.join(root, file), os.path.join(images_dir, file))\n",
    "            elif file.endswith(\".xml\"):\n",
    "                shutil.move(os.path.join(root, file), os.path.join(annotations_dir, file))\n",
    "\n",
    "    # Remove old directories if they exist\n",
    "    for directory in old_dirs:\n",
    "        dir_path = os.path.join(\"./dataset/voc_v1\", directory)\n",
    "        if os.path.exists(dir_path):\n",
    "            shutil.rmtree(dir_path)\n",
    "            print(f\"Removed directory: {dir_path}\")\n",
    "\n",
    "    print(\"Dataset merged successfully.\")\n",
    "\n",
    "def setup():\n",
    "    # Directories\n",
    "    data_dir = \"./dataset/voc_v1/data\"\n",
    "    voc_v1_dir = \"./dataset/voc_v1\"\n",
    "    images_dir = \"./dataset/voc_v1/data/images/\"\n",
    "    annotations_dir = \"./dataset/voc_v1/data/annotations/\"\n",
    "\n",
    "    # Remove directories\n",
    "    remove_directories(data_dir, voc_v1_dir)\n",
    "\n",
    "    # Download dataset using Roboflow API\n",
    "    roboflow_api_key = os.environ.get('ROBOFLOW')\n",
    "    print(roboflow_api_key)\n",
    "    download_dataset(roboflow_api_key)\n",
    "\n",
    "    # Merge dataset into one folder\n",
    "    merge_dataset(images_dir, annotations_dir)\n",
    "\n",
    "    print(\"Dataset setup completed successfully.\")\n",
    "\n",
    "setup()\n"
   ]
  },
  {
   "cell_type": "code",
   "execution_count": null,
   "id": "c684bec2",
   "metadata": {},
   "outputs": [],
   "source": []
  },
  {
   "cell_type": "code",
   "execution_count": null,
   "id": "6e4ad4bf",
   "metadata": {},
   "outputs": [],
   "source": []
  }
 ],
 "metadata": {
  "kernelspec": {
   "display_name": "saturn (Python 3)",
   "language": "python",
   "name": "python3"
  },
  "language_info": {
   "codemirror_mode": {
    "name": "ipython",
    "version": 3
   },
   "file_extension": ".py",
   "mimetype": "text/x-python",
   "name": "python",
   "nbconvert_exporter": "python",
   "pygments_lexer": "ipython3",
   "version": "3.9.18"
  }
 },
 "nbformat": 4,
 "nbformat_minor": 5
}
