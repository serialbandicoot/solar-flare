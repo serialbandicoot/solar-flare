{
 "cells": [
  {
   "cell_type": "markdown",
   "id": "548b13e1-1260-46b3-b078-4bb810e2b394",
   "metadata": {},
   "source": [
    "# Object Detection with KerasCV"
   ]
  },
  {
   "cell_type": "code",
   "execution_count": 1,
   "id": "ef3a9486-204e-464b-81d1-60a6e68c0c7d",
   "metadata": {
    "execution": {
     "iopub.execute_input": "2024-02-15T13:59:13.315341Z",
     "iopub.status.busy": "2024-02-15T13:59:13.314955Z",
     "iopub.status.idle": "2024-02-15T13:59:27.682664Z",
     "shell.execute_reply": "2024-02-15T13:59:27.681683Z",
     "shell.execute_reply.started": "2024-02-15T13:59:13.315310Z"
    },
    "tags": []
   },
   "outputs": [],
   "source": [
    "!pip install -q --upgrade keras-cv\n",
    "!pip install -q --upgrade keras  # Upgrade to Keras 3."
   ]
  },
  {
   "cell_type": "code",
   "execution_count": null,
   "id": "777ef7cb-ace6-46ce-a4f5-8e3684c07af1",
   "metadata": {},
   "outputs": [],
   "source": []
  }
 ],
 "metadata": {
  "kernelspec": {
   "display_name": "saturn (Python 3)",
   "language": "python",
   "name": "python3"
  },
  "language_info": {
   "codemirror_mode": {
    "name": "ipython",
    "version": 3
   },
   "file_extension": ".py",
   "mimetype": "text/x-python",
   "name": "python",
   "nbconvert_exporter": "python",
   "pygments_lexer": "ipython3",
   "version": "3.9.15"
  }
 },
 "nbformat": 4,
 "nbformat_minor": 5
}
