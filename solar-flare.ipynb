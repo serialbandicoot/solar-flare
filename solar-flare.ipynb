{
 "cells": [
  {
   "cell_type": "markdown",
   "metadata": {},
   "source": [
    "### Solar-Flare\n",
    "\n",
    "This project is using TensorFlow Object detection. "
   ]
  },
  {
   "cell_type": "markdown",
   "metadata": {},
   "source": [
    "#### Installing Tensor Flow Models \n",
    "\n",
    "The models directory, which is required by TensorFlow must be downloaded separately and is not part of this repo, due to it's size. "
   ]
  },
  {
   "cell_type": "code",
   "execution_count": 7,
   "metadata": {},
   "outputs": [
    {
     "name": "stdout",
     "output_type": "stream",
     "text": [
      "Cloning into 'models'...\n",
      "remote: Enumerating objects: 90359, done.\u001b[K\n",
      "remote: Counting objects: 100% (152/152), done.\u001b[K\n",
      "remote: Compressing objects: 100% (84/84), done.\u001b[K\n",
      "remote: Total 90359 (delta 79), reused 139 (delta 68), pack-reused 90207\u001b[K\n",
      "Receiving objects: 100% (90359/90359), 608.42 MiB | 2.66 MiB/s, done.\n",
      "Resolving deltas: 100% (65103/65103), done.\n"
     ]
    }
   ],
   "source": [
    "#!git clone https://github.com/tensorflow/models.git\n",
    "#!pip install -q -r models/official/requirements.txt"
   ]
  },
  {
   "cell_type": "code",
   "execution_count": 9,
   "metadata": {},
   "outputs": [],
   "source": [
    "import sys\n",
    "import os\n",
    "sys.path.append(f\"{os.getcwd()}/models/\")"
   ]
  },
  {
   "cell_type": "markdown",
   "metadata": {},
   "source": [
    "### Libs\n",
    " "
   ]
  },
  {
   "cell_type": "code",
   "execution_count": 10,
   "metadata": {},
   "outputs": [],
   "source": [
    "import os\n",
    "import io\n",
    "import pprint\n",
    "import tempfile\n",
    "import matplotlib\n",
    "import numpy as np\n",
    "import tensorflow as tf\n",
    "import matplotlib.pyplot as plt\n",
    "\n",
    "from PIL import Image\n",
    "from six import BytesIO\n",
    "from IPython import display\n",
    "from urllib.request import urlopen"
   ]
  },
  {
   "cell_type": "code",
   "execution_count": 11,
   "metadata": {},
   "outputs": [
    {
     "name": "stdout",
     "output_type": "stream",
     "text": [
      "2.14.0\n"
     ]
    }
   ],
   "source": [
    "import orbit\n",
    "\n",
    "from official import core\n",
    "from official.core import exp_factory\n",
    "from official.core import config_definitions as cfg\n",
    "from official.vision.serving import export_saved_model_lib\n",
    "from official.vision.ops.preprocess_ops import normalize_image\n",
    "from official.vision.ops.preprocess_ops import resize_and_crop_image\n",
    "from official.vision.utils.object_detection import visualization_utils\n",
    "from official.vision.dataloaders.tf_example_decoder import TfExampleDecoder\n",
    "\n",
    "pp = pprint.PrettyPrinter(indent=4) # Set Pretty Print Indentation\n",
    "print(tf.__version__) # Check the version of tensorflow used\n",
    "\n",
    "%matplotlib inline"
   ]
  },
  {
   "cell_type": "markdown",
   "metadata": {},
   "source": [
    "### COCO Formatting\n",
    "\n",
    "The labels have been generated using labelme, therefore the format for tensorflow has been converted to the COCO format."
   ]
  },
  {
   "cell_type": "code",
   "execution_count": null,
   "metadata": {},
   "outputs": [],
   "source": [
    "import labelme2coco\n",
    "import json\n",
    "\n",
    "# Specify the paths to the LabelMe annotations and the output COCO JSON file\n",
    "labelme_annotations_path = \"path/to/labelme/annotations\"\n",
    "output_coco_json_path = \"path/to/output/coco.json\"\n",
    "\n",
    "# Convert LabelMe annotations to COCO format\n",
    "labelme2coco.convert(\n",
    "    labelme_annotations_path,\n",
    "    output_coco_json_path\n",
    ")\n",
    "\n",
    "# Optionally, you can load and pretty-print the generated COCO JSON\n",
    "with open(output_coco_json_path, \"r\") as f:\n",
    "    coco_data = json.load(f)"
   ]
  }
 ],
 "metadata": {
  "kernelspec": {
   "display_name": ".venv",
   "language": "python",
   "name": "python3"
  },
  "language_info": {
   "codemirror_mode": {
    "name": "ipython",
    "version": 3
   },
   "file_extension": ".py",
   "mimetype": "text/x-python",
   "name": "python",
   "nbconvert_exporter": "python",
   "pygments_lexer": "ipython3",
   "version": "3.10.13"
  }
 },
 "nbformat": 4,
 "nbformat_minor": 2
}
